{
  "nbformat": 4,
  "nbformat_minor": 0,
  "metadata": {
    "colab": {
      "name": "Linear model.ipynb",
      "version": "0.3.2",
      "views": {},
      "default_view": {},
      "provenance": [],
      "collapsed_sections": []
    },
    "kernelspec": {
      "name": "python3",
      "display_name": "Python 3"
    },
    "accelerator": "GPU"
  },
  "cells": [
    {
      "metadata": {
        "id": "SwMFTcQgtQZD",
        "colab_type": "code",
        "colab": {
          "autoexec": {
            "startup": false,
            "wait_interval": 0
          },
          "base_uri": "https://localhost:8080/",
          "height": 54
        },
        "outputId": "858b0906-37ba-49a1-e538-650a2233be1e",
        "executionInfo": {
          "status": "ok",
          "timestamp": 1530858115571,
          "user_tz": -330,
          "elapsed": 2035,
          "user": {
            "displayName": "Suyash Gulati",
            "photoUrl": "https://lh3.googleusercontent.com/a/default-user=s128",
            "userId": "105838867624346791498"
          }
        }
      },
      "cell_type": "code",
      "source": [
        "!ls"
      ],
      "execution_count": 30,
      "outputs": [
        {
          "output_type": "stream",
          "text": [
            "datalab  glove.6B.100d.txt  glove.6B.300d.txt  glove.6B.zip\r\n",
            "drive\t glove.6B.200d.txt  glove.6B.50d.txt   nltk_data\r\n"
          ],
          "name": "stdout"
        }
      ]
    },
    {
      "metadata": {
        "id": "-gocJu-RpuvA",
        "colab_type": "code",
        "colab": {
          "autoexec": {
            "startup": false,
            "wait_interval": 0
          }
        }
      },
      "cell_type": "code",
      "source": [
        "import numpy as np\n",
        "import pandas as pd\n",
        "import matplotlib.pyplot as plt\n",
        "from sklearn.linear_model import LogisticRegression\n",
        "from sklearn.feature_extraction.text import CountVectorizer, TfidfVectorizer"
      ],
      "execution_count": 0,
      "outputs": []
    },
    {
      "metadata": {
        "id": "MTZ4jhItp6DO",
        "colab_type": "code",
        "colab": {
          "autoexec": {
            "startup": false,
            "wait_interval": 0
          }
        }
      },
      "cell_type": "code",
      "source": [
        "train = pd.read_csv('drive/app/kaggle/toxic comment/train.csv')\n",
        "test = pd.read_csv(\"drive/app/kaggle/toxic comment/test.csv\")"
      ],
      "execution_count": 0,
      "outputs": []
    },
    {
      "metadata": {
        "id": "y-pYH51DqGiN",
        "colab_type": "code",
        "colab": {
          "autoexec": {
            "startup": false,
            "wait_interval": 0
          },
          "base_uri": "https://localhost:8080/",
          "height": 91
        },
        "outputId": "60af6cdd-3766-4dce-b95d-7469379a8dbc",
        "executionInfo": {
          "status": "ok",
          "timestamp": 1530875072142,
          "user_tz": -330,
          "elapsed": 3387,
          "user": {
            "displayName": "Suyash Gulati",
            "photoUrl": "https://lh3.googleusercontent.com/a/default-user=s128",
            "userId": "105838867624346791498"
          }
        }
      },
      "cell_type": "code",
      "source": [
        "import nltk\n",
        "nltk.download('stopwords')\n",
        "nltk.download('punkt')\n",
        "from nltk.corpus import stopwords"
      ],
      "execution_count": 3,
      "outputs": [
        {
          "output_type": "stream",
          "text": [
            "[nltk_data] Downloading package stopwords to /content/nltk_data...\n",
            "[nltk_data]   Unzipping corpora/stopwords.zip.\n",
            "[nltk_data] Downloading package punkt to /content/nltk_data...\n",
            "[nltk_data]   Unzipping tokenizers/punkt.zip.\n"
          ],
          "name": "stdout"
        }
      ]
    },
    {
      "metadata": {
        "id": "R2QEdW9g4DUc",
        "colab_type": "code",
        "colab": {
          "autoexec": {
            "startup": false,
            "wait_interval": 0
          },
          "base_uri": "https://localhost:8080/",
          "height": 36
        },
        "outputId": "a058c68e-6096-43c8-8017-b2f9b15163da",
        "executionInfo": {
          "status": "ok",
          "timestamp": 1530875073312,
          "user_tz": -330,
          "elapsed": 1080,
          "user": {
            "displayName": "Suyash Gulati",
            "photoUrl": "https://lh3.googleusercontent.com/a/default-user=s128",
            "userId": "105838867624346791498"
          }
        }
      },
      "cell_type": "code",
      "source": [
        "train.shape"
      ],
      "execution_count": 4,
      "outputs": [
        {
          "output_type": "execute_result",
          "data": {
            "text/plain": [
              "(159571, 8)"
            ]
          },
          "metadata": {
            "tags": []
          },
          "execution_count": 4
        }
      ]
    },
    {
      "metadata": {
        "id": "nGBYjfxSKz6W",
        "colab_type": "code",
        "colab": {
          "autoexec": {
            "startup": false,
            "wait_interval": 0
          },
          "base_uri": "https://localhost:8080/",
          "height": 36
        },
        "outputId": "2a7cff36-2b3e-448a-8f8d-93704696c402",
        "executionInfo": {
          "status": "ok",
          "timestamp": 1530875075117,
          "user_tz": -330,
          "elapsed": 894,
          "user": {
            "displayName": "Suyash Gulati",
            "photoUrl": "https://lh3.googleusercontent.com/a/default-user=s128",
            "userId": "105838867624346791498"
          }
        }
      },
      "cell_type": "code",
      "source": [
        "test.shape"
      ],
      "execution_count": 5,
      "outputs": [
        {
          "output_type": "execute_result",
          "data": {
            "text/plain": [
              "(153164, 2)"
            ]
          },
          "metadata": {
            "tags": []
          },
          "execution_count": 5
        }
      ]
    },
    {
      "metadata": {
        "id": "V8nOvgnG4IAR",
        "colab_type": "code",
        "colab": {
          "autoexec": {
            "startup": false,
            "wait_interval": 0
          },
          "base_uri": "https://localhost:8080/",
          "height": 184
        },
        "outputId": "88c18bd3-768b-4d05-ad0c-3b846f427b9a",
        "executionInfo": {
          "status": "ok",
          "timestamp": 1530875077210,
          "user_tz": -330,
          "elapsed": 1259,
          "user": {
            "displayName": "Suyash Gulati",
            "photoUrl": "https://lh3.googleusercontent.com/a/default-user=s128",
            "userId": "105838867624346791498"
          }
        }
      },
      "cell_type": "code",
      "source": [
        "train['obscene'].describe()"
      ],
      "execution_count": 6,
      "outputs": [
        {
          "output_type": "execute_result",
          "data": {
            "text/plain": [
              "count    159571.000000\n",
              "mean          0.052948\n",
              "std           0.223931\n",
              "min           0.000000\n",
              "25%           0.000000\n",
              "50%           0.000000\n",
              "75%           0.000000\n",
              "max           1.000000\n",
              "Name: obscene, dtype: float64"
            ]
          },
          "metadata": {
            "tags": []
          },
          "execution_count": 6
        }
      ]
    },
    {
      "metadata": {
        "id": "-1_dCSW64KNX",
        "colab_type": "code",
        "colab": {
          "autoexec": {
            "startup": false,
            "wait_interval": 0
          },
          "base_uri": "https://localhost:8080/",
          "height": 206
        },
        "outputId": "768e814c-2315-41cc-b601-817d2fa88479",
        "executionInfo": {
          "status": "ok",
          "timestamp": 1530875079091,
          "user_tz": -330,
          "elapsed": 1594,
          "user": {
            "displayName": "Suyash Gulati",
            "photoUrl": "https://lh3.googleusercontent.com/a/default-user=s128",
            "userId": "105838867624346791498"
          }
        }
      },
      "cell_type": "code",
      "source": [
        "train[train[\"toxic\"]>0].head()"
      ],
      "execution_count": 7,
      "outputs": [
        {
          "output_type": "execute_result",
          "data": {
            "text/html": [
              "<div>\n",
              "<style scoped>\n",
              "    .dataframe tbody tr th:only-of-type {\n",
              "        vertical-align: middle;\n",
              "    }\n",
              "\n",
              "    .dataframe tbody tr th {\n",
              "        vertical-align: top;\n",
              "    }\n",
              "\n",
              "    .dataframe thead th {\n",
              "        text-align: right;\n",
              "    }\n",
              "</style>\n",
              "<table border=\"1\" class=\"dataframe\">\n",
              "  <thead>\n",
              "    <tr style=\"text-align: right;\">\n",
              "      <th></th>\n",
              "      <th>id</th>\n",
              "      <th>comment_text</th>\n",
              "      <th>toxic</th>\n",
              "      <th>severe_toxic</th>\n",
              "      <th>obscene</th>\n",
              "      <th>threat</th>\n",
              "      <th>insult</th>\n",
              "      <th>identity_hate</th>\n",
              "    </tr>\n",
              "  </thead>\n",
              "  <tbody>\n",
              "    <tr>\n",
              "      <th>6</th>\n",
              "      <td>0002bcb3da6cb337</td>\n",
              "      <td>COCKSUCKER BEFORE YOU PISS AROUND ON MY WORK</td>\n",
              "      <td>1</td>\n",
              "      <td>1</td>\n",
              "      <td>1</td>\n",
              "      <td>0</td>\n",
              "      <td>1</td>\n",
              "      <td>0</td>\n",
              "    </tr>\n",
              "    <tr>\n",
              "      <th>12</th>\n",
              "      <td>0005c987bdfc9d4b</td>\n",
              "      <td>Hey... what is it..\\n@ | talk .\\nWhat is it......</td>\n",
              "      <td>1</td>\n",
              "      <td>0</td>\n",
              "      <td>0</td>\n",
              "      <td>0</td>\n",
              "      <td>0</td>\n",
              "      <td>0</td>\n",
              "    </tr>\n",
              "    <tr>\n",
              "      <th>16</th>\n",
              "      <td>0007e25b2121310b</td>\n",
              "      <td>Bye! \\n\\nDon't look, come or think of comming ...</td>\n",
              "      <td>1</td>\n",
              "      <td>0</td>\n",
              "      <td>0</td>\n",
              "      <td>0</td>\n",
              "      <td>0</td>\n",
              "      <td>0</td>\n",
              "    </tr>\n",
              "    <tr>\n",
              "      <th>42</th>\n",
              "      <td>001810bf8c45bf5f</td>\n",
              "      <td>You are gay or antisemmitian? \\n\\nArchangel WH...</td>\n",
              "      <td>1</td>\n",
              "      <td>0</td>\n",
              "      <td>1</td>\n",
              "      <td>0</td>\n",
              "      <td>1</td>\n",
              "      <td>1</td>\n",
              "    </tr>\n",
              "    <tr>\n",
              "      <th>43</th>\n",
              "      <td>00190820581d90ce</td>\n",
              "      <td>FUCK YOUR FILTHY MOTHER IN THE ASS, DRY!</td>\n",
              "      <td>1</td>\n",
              "      <td>0</td>\n",
              "      <td>1</td>\n",
              "      <td>0</td>\n",
              "      <td>1</td>\n",
              "      <td>0</td>\n",
              "    </tr>\n",
              "  </tbody>\n",
              "</table>\n",
              "</div>"
            ],
            "text/plain": [
              "                  id                                       comment_text  \\\n",
              "6   0002bcb3da6cb337       COCKSUCKER BEFORE YOU PISS AROUND ON MY WORK   \n",
              "12  0005c987bdfc9d4b  Hey... what is it..\\n@ | talk .\\nWhat is it......   \n",
              "16  0007e25b2121310b  Bye! \\n\\nDon't look, come or think of comming ...   \n",
              "42  001810bf8c45bf5f  You are gay or antisemmitian? \\n\\nArchangel WH...   \n",
              "43  00190820581d90ce           FUCK YOUR FILTHY MOTHER IN THE ASS, DRY!   \n",
              "\n",
              "    toxic  severe_toxic  obscene  threat  insult  identity_hate  \n",
              "6       1             1        1       0       1              0  \n",
              "12      1             0        0       0       0              0  \n",
              "16      1             0        0       0       0              0  \n",
              "42      1             0        1       0       1              1  \n",
              "43      1             0        1       0       1              0  "
            ]
          },
          "metadata": {
            "tags": []
          },
          "execution_count": 7
        }
      ]
    },
    {
      "metadata": {
        "id": "j3wYZrET4QlF",
        "colab_type": "code",
        "colab": {
          "autoexec": {
            "startup": false,
            "wait_interval": 0
          },
          "base_uri": "https://localhost:8080/",
          "height": 36
        },
        "outputId": "ff7ea09f-5462-4b60-bf93-e6b893256c4a",
        "executionInfo": {
          "status": "ok",
          "timestamp": 1530875081924,
          "user_tz": -330,
          "elapsed": 1610,
          "user": {
            "displayName": "Suyash Gulati",
            "photoUrl": "https://lh3.googleusercontent.com/a/default-user=s128",
            "userId": "105838867624346791498"
          }
        }
      },
      "cell_type": "code",
      "source": [
        "lens = train.comment_text.str.len()\n",
        "lens.mean(), lens.std(), lens.max()"
      ],
      "execution_count": 8,
      "outputs": [
        {
          "output_type": "execute_result",
          "data": {
            "text/plain": [
              "(394.0732213246768, 590.7202819048919, 5000)"
            ]
          },
          "metadata": {
            "tags": []
          },
          "execution_count": 8
        }
      ]
    },
    {
      "metadata": {
        "id": "FKhWqFBg4TAn",
        "colab_type": "code",
        "colab": {
          "autoexec": {
            "startup": false,
            "wait_interval": 0
          },
          "base_uri": "https://localhost:8080/",
          "height": 366
        },
        "outputId": "2314595d-f111-4682-ff4f-e08684507b33",
        "executionInfo": {
          "status": "ok",
          "timestamp": 1530875083292,
          "user_tz": -330,
          "elapsed": 1124,
          "user": {
            "displayName": "Suyash Gulati",
            "photoUrl": "https://lh3.googleusercontent.com/a/default-user=s128",
            "userId": "105838867624346791498"
          }
        }
      },
      "cell_type": "code",
      "source": [
        "lens.hist()"
      ],
      "execution_count": 9,
      "outputs": [
        {
          "output_type": "execute_result",
          "data": {
            "text/plain": [
              "<matplotlib.axes._subplots.AxesSubplot at 0x7f6b3b932710>"
            ]
          },
          "metadata": {
            "tags": []
          },
          "execution_count": 9
        },
        {
          "output_type": "display_data",
          "data": {
            "image/png": "[encoded data removed]",
            "text/plain": [
              "<matplotlib.figure.Figure at 0x7f6b3b9321d0>"
            ]
          },
          "metadata": {
            "tags": []
          }
        }
      ]
    },
    {
      "metadata": {
        "id": "vcoaemwb4U1A",
        "colab_type": "code",
        "colab": {
          "autoexec": {
            "startup": false,
            "wait_interval": 0
          }
        }
      },
      "cell_type": "code",
      "source": [
        "COMMENT = 'comment_text'\n",
        "train[COMMENT].fillna(\"unknown\", inplace=True)\n",
        "test[COMMENT].fillna(\"unknown\", inplace=True)"
      ],
      "execution_count": 0,
      "outputs": []
    },
    {
      "metadata": {
        "id": "lPq5v7W54Xpp",
        "colab_type": "code",
        "colab": {
          "autoexec": {
            "startup": false,
            "wait_interval": 0
          },
          "base_uri": "https://localhost:8080/",
          "height": 36
        },
        "outputId": "2d16e00b-64a4-4afc-af84-6ffc1b46e6e9",
        "executionInfo": {
          "status": "ok",
          "timestamp": 1530875085707,
          "user_tz": -330,
          "elapsed": 894,
          "user": {
            "displayName": "Suyash Gulati",
            "photoUrl": "https://lh3.googleusercontent.com/a/default-user=s128",
            "userId": "105838867624346791498"
          }
        }
      },
      "cell_type": "code",
      "source": [
        "len(train),len(test)"
      ],
      "execution_count": 11,
      "outputs": [
        {
          "output_type": "execute_result",
          "data": {
            "text/plain": [
              "(159571, 153164)"
            ]
          },
          "metadata": {
            "tags": []
          },
          "execution_count": 11
        }
      ]
    },
    {
      "metadata": {
        "id": "SHWZ8n7MMt_e",
        "colab_type": "code",
        "colab": {
          "autoexec": {
            "startup": false,
            "wait_interval": 0
          },
          "base_uri": "https://localhost:8080/",
          "height": 206
        },
        "outputId": "ba82a10a-2796-48ba-918f-9869938cdc0d",
        "executionInfo": {
          "status": "ok",
          "timestamp": 1530875088241,
          "user_tz": -330,
          "elapsed": 2244,
          "user": {
            "displayName": "Suyash Gulati",
            "photoUrl": "https://lh3.googleusercontent.com/a/default-user=s128",
            "userId": "105838867624346791498"
          }
        }
      },
      "cell_type": "code",
      "source": [
        "test.head()"
      ],
      "execution_count": 12,
      "outputs": [
        {
          "output_type": "execute_result",
          "data": {
            "text/html": [
              "<div>\n",
              "<style scoped>\n",
              "    .dataframe tbody tr th:only-of-type {\n",
              "        vertical-align: middle;\n",
              "    }\n",
              "\n",
              "    .dataframe tbody tr th {\n",
              "        vertical-align: top;\n",
              "    }\n",
              "\n",
              "    .dataframe thead th {\n",
              "        text-align: right;\n",
              "    }\n",
              "</style>\n",
              "<table border=\"1\" class=\"dataframe\">\n",
              "  <thead>\n",
              "    <tr style=\"text-align: right;\">\n",
              "      <th></th>\n",
              "      <th>id</th>\n",
              "      <th>comment_text</th>\n",
              "    </tr>\n",
              "  </thead>\n",
              "  <tbody>\n",
              "    <tr>\n",
              "      <th>0</th>\n",
              "      <td>00001cee341fdb12</td>\n",
              "      <td>Yo bitch Ja Rule is more succesful then you'll...</td>\n",
              "    </tr>\n",
              "    <tr>\n",
              "      <th>1</th>\n",
              "      <td>0000247867823ef7</td>\n",
              "      <td>== From RfC == \\n\\n The title is fine as it is...</td>\n",
              "    </tr>\n",
              "    <tr>\n",
              "      <th>2</th>\n",
              "      <td>00013b17ad220c46</td>\n",
              "      <td>\" \\n\\n == Sources == \\n\\n * Zawe Ashton on Lap...</td>\n",
              "    </tr>\n",
              "    <tr>\n",
              "      <th>3</th>\n",
              "      <td>00017563c3f7919a</td>\n",
              "      <td>:If you have a look back at the source, the in...</td>\n",
              "    </tr>\n",
              "    <tr>\n",
              "      <th>4</th>\n",
              "      <td>00017695ad8997eb</td>\n",
              "      <td>I don't anonymously edit articles at all.</td>\n",
              "    </tr>\n",
              "  </tbody>\n",
              "</table>\n",
              "</div>"
            ],
            "text/plain": [
              "                 id                                       comment_text\n",
              "0  00001cee341fdb12  Yo bitch Ja Rule is more succesful then you'll...\n",
              "1  0000247867823ef7  == From RfC == \\n\\n The title is fine as it is...\n",
              "2  00013b17ad220c46  \" \\n\\n == Sources == \\n\\n * Zawe Ashton on Lap...\n",
              "3  00017563c3f7919a  :If you have a look back at the source, the in...\n",
              "4  00017695ad8997eb          I don't anonymously edit articles at all."
            ]
          },
          "metadata": {
            "tags": []
          },
          "execution_count": 12
        }
      ]
    },
    {
      "metadata": {
        "id": "NDEvXolL4awD",
        "colab_type": "code",
        "colab": {
          "autoexec": {
            "startup": false,
            "wait_interval": 0
          }
        }
      },
      "cell_type": "code",
      "source": [
        "train = train.drop('id',axis = 1)\n",
        "X_test = test.drop(\"id\", axis =1)"
      ],
      "execution_count": 0,
      "outputs": []
    },
    {
      "metadata": {
        "id": "ZisBdFxDu9cc",
        "colab_type": "code",
        "colab": {
          "autoexec": {
            "startup": false,
            "wait_interval": 0
          },
          "base_uri": "https://localhost:8080/",
          "height": 36
        },
        "outputId": "f459dcc6-d961-40af-fc14-d74d379e8863",
        "executionInfo": {
          "status": "ok",
          "timestamp": 1530875119348,
          "user_tz": -330,
          "elapsed": 992,
          "user": {
            "displayName": "Suyash Gulati",
            "photoUrl": "https://lh3.googleusercontent.com/a/default-user=s128",
            "userId": "105838867624346791498"
          }
        }
      },
      "cell_type": "code",
      "source": [
        "X_test.shape"
      ],
      "execution_count": 14,
      "outputs": [
        {
          "output_type": "execute_result",
          "data": {
            "text/plain": [
              "(153164, 1)"
            ]
          },
          "metadata": {
            "tags": []
          },
          "execution_count": 14
        }
      ]
    },
    {
      "metadata": {
        "id": "e7WB-vQS4c-K",
        "colab_type": "code",
        "colab": {
          "autoexec": {
            "startup": false,
            "wait_interval": 0
          }
        }
      },
      "cell_type": "code",
      "source": [
        "X_test = X_test.values.ravel()"
      ],
      "execution_count": 0,
      "outputs": []
    },
    {
      "metadata": {
        "id": "2b9XaE2evJ45",
        "colab_type": "code",
        "colab": {
          "autoexec": {
            "startup": false,
            "wait_interval": 0
          },
          "base_uri": "https://localhost:8080/",
          "height": 36
        },
        "outputId": "447b71c9-8c69-4807-fd3e-c8a1c01f6895",
        "executionInfo": {
          "status": "ok",
          "timestamp": 1530875124167,
          "user_tz": -330,
          "elapsed": 909,
          "user": {
            "displayName": "Suyash Gulati",
            "photoUrl": "https://lh3.googleusercontent.com/a/default-user=s128",
            "userId": "105838867624346791498"
          }
        }
      },
      "cell_type": "code",
      "source": [
        "X_test.shape"
      ],
      "execution_count": 16,
      "outputs": [
        {
          "output_type": "execute_result",
          "data": {
            "text/plain": [
              "(153164,)"
            ]
          },
          "metadata": {
            "tags": []
          },
          "execution_count": 16
        }
      ]
    },
    {
      "metadata": {
        "id": "HltoYFsI4f9y",
        "colab_type": "code",
        "colab": {
          "autoexec": {
            "startup": false,
            "wait_interval": 0
          }
        }
      },
      "cell_type": "code",
      "source": [
        "X, y = train['comment_text'].values, train[['toxic','severe_toxic','obscene','threat','insult','identity_hate']].values"
      ],
      "execution_count": 0,
      "outputs": []
    },
    {
      "metadata": {
        "id": "VX4NTnAr4mXg",
        "colab_type": "code",
        "colab": {
          "autoexec": {
            "startup": false,
            "wait_interval": 0
          }
        }
      },
      "cell_type": "code",
      "source": [
        "from sklearn.model_selection import train_test_split\n",
        "X_train, X_val, y_train, y_val = train_test_split(X, y, test_size=0.3, random_state=42)"
      ],
      "execution_count": 0,
      "outputs": []
    },
    {
      "metadata": {
        "id": "2TnTGdPMLF8S",
        "colab_type": "code",
        "colab": {
          "autoexec": {
            "startup": false,
            "wait_interval": 0
          },
          "base_uri": "https://localhost:8080/",
          "height": 186
        },
        "outputId": "7a082aa9-99f6-46ff-ca17-c916269b950e",
        "executionInfo": {
          "status": "ok",
          "timestamp": 1530875150061,
          "user_tz": -330,
          "elapsed": 1421,
          "user": {
            "displayName": "Suyash Gulati",
            "photoUrl": "https://lh3.googleusercontent.com/a/default-user=s128",
            "userId": "105838867624346791498"
          }
        }
      },
      "cell_type": "code",
      "source": [
        "X_train"
      ],
      "execution_count": 19,
      "outputs": [
        {
          "output_type": "execute_result",
          "data": {
            "text/plain": [
              "array(['\"\\n\\nConflict of interest note\\nBy your user name, it appears that you represent a company or organization. Please read our conflict of interest guidelines as well as our FAQ for businesses. We welcome your contributions here, but please refrain from writing about your own company\\'s services and personnel. Thanks, and happy editing! \\'\\'\\'\\'\\'\\'Speaketh \"',\n",
              "       '(update: actually, I changed this to something blander)',\n",
              "       'MRCA article \\nSniperz11, thanks for your comments on my edits. I added some part about Mirage-2000 being the original MRCA in the Indian Air Force article. But frankly speaking I think that there is no need at all for a separate MRCA article. Although it is very large, its just another military contract. In my opinion, contracts and tenders might not deserve separate articles, but can have large sections describing them. Thanks.',\n",
              "       ...,\n",
              "       \"I won't stop that. Sometimes Germanic equals Germany or todays people of Germanic descent. Germanic is the category above Germans, Englishmen, Norwegians and so on. Why should I stop that? It must be someone's history. History can not exist without context. I see that in context. If you are not able to do that please stop tripping on my nerves.\",\n",
              "       '\"\\n\\n British Bands?  \\n\\nI think you\\'ve mistaken Scottish Gaelic words,phrases and names for \"\"British Bands\"\"? Numpty! Colonialist arrogance strikes again! LMAO! Slainte Mhath!\"',\n",
              "       'You are WRONG. \\n\\nJustin Thompson is mentioned in the Orange County Superior Court Docket and Depositon.'],\n",
              "      dtype=object)"
            ]
          },
          "metadata": {
            "tags": []
          },
          "execution_count": 19
        }
      ]
    },
    {
      "metadata": {
        "id": "pLyC9EXT4ob-",
        "colab_type": "code",
        "colab": {
          "autoexec": {
            "startup": false,
            "wait_interval": 0
          }
        }
      },
      "cell_type": "code",
      "source": [
        "import re, string\n",
        "from nltk.tokenize import word_tokenize\n",
        "REPLACE_BY_SPACE_RE = re.compile('[/(){}\\[\\]\\|@,;]')\n",
        "STOPWORDS = set(stopwords.words('english'))\n",
        "\n",
        "def text_prepare(text):\n",
        "    text = text.lower()\n",
        "    text = re.sub(r'[^\\w\\s]',' ',text)\n",
        " #   text = text.translate(\" \", string.punctuation)\n",
        "#    text = re.sub(REPLACE_BY_SPACE_RE,\" \",text)\n",
        "#     text = re.sub(BAD_SYMBOLS_RE,\"\",text)\n",
        "    text = [i for i in text.split() if i not in STOPWORDS]\n",
        "    return \" \".join(text)"
      ],
      "execution_count": 0,
      "outputs": []
    },
    {
      "metadata": {
        "id": "gQTzRDBG4qba",
        "colab_type": "code",
        "colab": {
          "autoexec": {
            "startup": false,
            "wait_interval": 0
          },
          "base_uri": "https://localhost:8080/",
          "height": 36
        },
        "outputId": "d442cec1-5029-4000-ff11-f25be1d03c4c",
        "executionInfo": {
          "status": "ok",
          "timestamp": 1530875514569,
          "user_tz": -330,
          "elapsed": 1646,
          "user": {
            "displayName": "Suyash Gulati",
            "photoUrl": "https://lh3.googleusercontent.com/a/default-user=s128",
            "userId": "105838867624346791498"
          }
        }
      },
      "cell_type": "code",
      "source": [
        "j = 'BOBBY@FIRMINO c# c++ '\n",
        "text_prepare(j)"
      ],
      "execution_count": 25,
      "outputs": [
        {
          "output_type": "execute_result",
          "data": {
            "text/plain": [
              "'bobby firmino c c'"
            ]
          },
          "metadata": {
            "tags": []
          },
          "execution_count": 25
        }
      ]
    },
    {
      "metadata": {
        "id": "9ML-RDSFKlA2",
        "colab_type": "code",
        "colab": {
          "autoexec": {
            "startup": false,
            "wait_interval": 0
          },
          "base_uri": "https://localhost:8080/",
          "height": 36
        },
        "outputId": "be1b148f-7ad3-4fd3-c176-3e661a09faf1",
        "executionInfo": {
          "status": "ok",
          "timestamp": 1530875522891,
          "user_tz": -330,
          "elapsed": 1462,
          "user": {
            "displayName": "Suyash Gulati",
            "photoUrl": "https://lh3.googleusercontent.com/a/default-user=s128",
            "userId": "105838867624346791498"
          }
        }
      },
      "cell_type": "code",
      "source": [
        "X_train.shape"
      ],
      "execution_count": 26,
      "outputs": [
        {
          "output_type": "execute_result",
          "data": {
            "text/plain": [
              "(111699,)"
            ]
          },
          "metadata": {
            "tags": []
          },
          "execution_count": 26
        }
      ]
    },
    {
      "metadata": {
        "id": "xjnysWr0uRGW",
        "colab_type": "code",
        "colab": {
          "autoexec": {
            "startup": false,
            "wait_interval": 0
          }
        }
      },
      "cell_type": "code",
      "source": [
        "X_train = [text_prepare(x) for x in X_train]\n",
        "X_val = [text_prepare(x) for x in X_val]\n",
        "X_test = [text_prepare(x) for x in X_test]"
      ],
      "execution_count": 0,
      "outputs": []
    },
    {
      "metadata": {
        "id": "T0gUZuIQzlNe",
        "colab_type": "code",
        "colab": {
          "autoexec": {
            "startup": false,
            "wait_interval": 0
          }
        }
      },
      "cell_type": "code",
      "source": [
        "import itertools\n",
        "import nltk\n",
        "words_counts = {}\n",
        "def most_common(X):\n",
        "    X_train_join = \" \".join(X)\n",
        "    X_train_tokens = X_train_join.split()\n",
        "    dist = nltk.FreqDist(X_train_tokens)\n",
        "    return dist.most_common(5000)\n",
        "jj= most_common(X_train)\n",
        "words_counts = dict(most_common(X_train))"
      ],
      "execution_count": 0,
      "outputs": []
    },
    {
      "metadata": {
        "id": "GJyDd_hhTQ_6",
        "colab_type": "code",
        "colab": {
          "autoexec": {
            "startup": false,
            "wait_interval": 0
          },
          "base_uri": "https://localhost:8080/",
          "height": 110
        },
        "outputId": "e364bb36-162d-476a-cc82-151be133ab77",
        "executionInfo": {
          "status": "ok",
          "timestamp": 1530875725782,
          "user_tz": -330,
          "elapsed": 1620,
          "user": {
            "displayName": "Suyash Gulati",
            "photoUrl": "https://lh3.googleusercontent.com/a/default-user=s128",
            "userId": "105838867624346791498"
          }
        }
      },
      "cell_type": "code",
      "source": [
        "list(words_counts.items())[:5]"
      ],
      "execution_count": 29,
      "outputs": [
        {
          "output_type": "execute_result",
          "data": {
            "text/plain": [
              "[('article', 40488),\n",
              " ('wikipedia', 33753),\n",
              " ('page', 32506),\n",
              " ('talk', 26080),\n",
              " ('please', 20909)]"
            ]
          },
          "metadata": {
            "tags": []
          },
          "execution_count": 29
        }
      ]
    },
    {
      "metadata": {
        "id": "CTK0LbFgzpK3",
        "colab_type": "code",
        "colab": {
          "autoexec": {
            "startup": false,
            "wait_interval": 0
          }
        }
      },
      "cell_type": "code",
      "source": [
        "from sklearn.feature_extraction.text import CountVectorizer\n",
        "a=list(words_counts.keys())\n",
        "DICT_SIZE = 5000\n",
        "WORDS_TO_INDEX = {k: v for v, k in enumerate(a)}\n",
        "def my_bag_of_words(text, words_to_index, dict_size):\n",
        "    text = [text]\n",
        "    vectorizer = CountVectorizer(vocabulary = words_to_index,max_features = dict_size)\n",
        "    vector = vectorizer.transform(text)\n",
        "    result_vector=vector.toarray()\n",
        "    return result_vector"
      ],
      "execution_count": 0,
      "outputs": []
    },
    {
      "metadata": {
        "id": "3l4YDdO2T4Pi",
        "colab_type": "code",
        "colab": {
          "autoexec": {
            "startup": false,
            "wait_interval": 0
          },
          "base_uri": "https://localhost:8080/",
          "height": 36
        },
        "outputId": "f4601ebe-6ef1-4299-c0f6-d8e4a119e2db",
        "executionInfo": {
          "status": "ok",
          "timestamp": 1530876030202,
          "user_tz": -330,
          "elapsed": 998,
          "user": {
            "displayName": "Suyash Gulati",
            "photoUrl": "https://lh3.googleusercontent.com/a/default-user=s128",
            "userId": "105838867624346791498"
          }
        }
      },
      "cell_type": "code",
      "source": [
        "list(WORDS_TO_INDEX.items())[:5]"
      ],
      "execution_count": 33,
      "outputs": [
        {
          "output_type": "execute_result",
          "data": {
            "text/plain": [
              "[('article', 0), ('wikipedia', 1), ('page', 2), ('talk', 3), ('please', 4)]"
            ]
          },
          "metadata": {
            "tags": []
          },
          "execution_count": 33
        }
      ]
    },
    {
      "metadata": {
        "id": "v_JcFJr2zulP",
        "colab_type": "code",
        "colab": {
          "autoexec": {
            "startup": false,
            "wait_interval": 0
          }
        }
      },
      "cell_type": "code",
      "source": [
        "from scipy import sparse as sp_sparse"
      ],
      "execution_count": 0,
      "outputs": []
    },
    {
      "metadata": {
        "id": "7bn7_76GzxnR",
        "colab_type": "code",
        "colab": {
          "autoexec": {
            "startup": false,
            "wait_interval": 0
          },
          "base_uri": "https://localhost:8080/",
          "height": 54
        },
        "outputId": "fc256d39-34d6-431c-c299-cf7447585525",
        "executionInfo": {
          "status": "ok",
          "timestamp": 1530876536023,
          "user_tz": -330,
          "elapsed": 395593,
          "user": {
            "displayName": "Suyash Gulati",
            "photoUrl": "https://lh3.googleusercontent.com/a/default-user=s128",
            "userId": "105838867624346791498"
          }
        }
      },
      "cell_type": "code",
      "source": [
        "X_train_mybag = sp_sparse.vstack([sp_sparse.csr_matrix(my_bag_of_words(text, WORDS_TO_INDEX, DICT_SIZE)) for text in X_train])\n",
        "X_val_mybag = sp_sparse.vstack([sp_sparse.csr_matrix(my_bag_of_words(text, WORDS_TO_INDEX, DICT_SIZE)) for text in X_val])\n",
        "X_test_mybag = sp_sparse.vstack([sp_sparse.csr_matrix(my_bag_of_words(text, WORDS_TO_INDEX, DICT_SIZE)) for text in X_test])\n",
        "\n",
        "\n",
        "print('X_train shape ', X_train_mybag.shape)\n",
        "print('X_val shape ', X_val_mybag.shape)"
      ],
      "execution_count": 35,
      "outputs": [
        {
          "output_type": "stream",
          "text": [
            "X_train shape  (111699, 5000)\n",
            "X_val shape  (47872, 5000)\n"
          ],
          "name": "stdout"
        }
      ]
    },
    {
      "metadata": {
        "id": "MY2SUldgzzgz",
        "colab_type": "code",
        "colab": {
          "autoexec": {
            "startup": false,
            "wait_interval": 0
          },
          "base_uri": "https://localhost:8080/",
          "height": 54
        },
        "outputId": "3e65b312-2e55-40fa-b395-8d1ac673bad0",
        "executionInfo": {
          "status": "ok",
          "timestamp": 1530876600095,
          "user_tz": -330,
          "elapsed": 1575,
          "user": {
            "displayName": "Suyash Gulati",
            "photoUrl": "https://lh3.googleusercontent.com/a/default-user=s128",
            "userId": "105838867624346791498"
          }
        }
      },
      "cell_type": "code",
      "source": [
        "X_train_mybag"
      ],
      "execution_count": 37,
      "outputs": [
        {
          "output_type": "execute_result",
          "data": {
            "text/plain": [
              "<111699x5000 sparse matrix of type '<class 'numpy.int64'>'\n",
              "\twith 2538888 stored elements in Compressed Sparse Row format>"
            ]
          },
          "metadata": {
            "tags": []
          },
          "execution_count": 37
        }
      ]
    },
    {
      "metadata": {
        "id": "aVSj42Sj1SPZ",
        "colab_type": "code",
        "colab": {
          "autoexec": {
            "startup": false,
            "wait_interval": 0
          }
        }
      },
      "cell_type": "code",
      "source": [
        "from sklearn.feature_extraction.text import TfidfVectorizer"
      ],
      "execution_count": 0,
      "outputs": []
    },
    {
      "metadata": {
        "id": "Bw4fX4_b1vLD",
        "colab_type": "code",
        "colab": {
          "autoexec": {
            "startup": false,
            "wait_interval": 0
          }
        }
      },
      "cell_type": "code",
      "source": [
        "tfidf_vectorizer = TfidfVectorizer(min_df=5,max_df = 0.9,ngram_range=(1, 3))\n",
        "tfidf_vectorizer.fit(X_train)\n",
        "X_train_tfid = tfidf_vectorizer.transform(X_train)\n",
        "X_val_tfid = tfidf_vectorizer.transform(X_val)\n",
        "X_test_tfid = tfidf_vectorizer.transform(X_test)"
      ],
      "execution_count": 0,
      "outputs": []
    },
    {
      "metadata": {
        "id": "vTIQM1vpW4Of",
        "colab_type": "code",
        "colab": {
          "autoexec": {
            "startup": false,
            "wait_interval": 0
          },
          "base_uri": "https://localhost:8080/",
          "height": 54
        },
        "outputId": "ee736800-13d1-47d3-cc31-46d41b02cd9d",
        "executionInfo": {
          "status": "ok",
          "timestamp": 1530876783115,
          "user_tz": -330,
          "elapsed": 947,
          "user": {
            "displayName": "Suyash Gulati",
            "photoUrl": "https://lh3.googleusercontent.com/a/default-user=s128",
            "userId": "105838867624346791498"
          }
        }
      },
      "cell_type": "code",
      "source": [
        "X_train_tfid"
      ],
      "execution_count": 41,
      "outputs": [
        {
          "output_type": "execute_result",
          "data": {
            "text/plain": [
              "<111699x120417 sparse matrix of type '<class 'numpy.float64'>'\n",
              "\twith 4460178 stored elements in Compressed Sparse Row format>"
            ]
          },
          "metadata": {
            "tags": []
          },
          "execution_count": 41
        }
      ]
    },
    {
      "metadata": {
        "id": "-VCDXFus12mF",
        "colab_type": "code",
        "colab": {
          "autoexec": {
            "startup": false,
            "wait_interval": 0
          }
        }
      },
      "cell_type": "code",
      "source": [
        "tfidf_vocab = tfidf_vectorizer.vocabulary_\n",
        "tfidf_reversed_vocab = {i:word for word,i in tfidf_vocab.items()}"
      ],
      "execution_count": 0,
      "outputs": []
    },
    {
      "metadata": {
        "id": "o8u0u0A64TIf",
        "colab_type": "code",
        "colab": {
          "autoexec": {
            "startup": false,
            "wait_interval": 0
          },
          "base_uri": "https://localhost:8080/",
          "height": 110
        },
        "outputId": "699625d2-2e2e-4cc7-e347-3e07961ddec7",
        "executionInfo": {
          "status": "ok",
          "timestamp": 1530876809187,
          "user_tz": -330,
          "elapsed": 997,
          "user": {
            "displayName": "Suyash Gulati",
            "photoUrl": "https://lh3.googleusercontent.com/a/default-user=s128",
            "userId": "105838867624346791498"
          }
        }
      },
      "cell_type": "code",
      "source": [
        "list(tfidf_reversed_vocab.items())[:5]"
      ],
      "execution_count": 43,
      "outputs": [
        {
          "output_type": "execute_result",
          "data": {
            "text/plain": [
              "[(24301, 'conflict'),\n",
              " (52278, 'interest'),\n",
              " (69198, 'note'),\n",
              " (110088, 'user'),\n",
              " (66374, 'name')]"
            ]
          },
          "metadata": {
            "tags": []
          },
          "execution_count": 43
        }
      ]
    },
    {
      "metadata": {
        "id": "2hl9FvMYWwSD",
        "colab_type": "code",
        "colab": {
          "autoexec": {
            "startup": false,
            "wait_interval": 0
          },
          "base_uri": "https://localhost:8080/",
          "height": 110
        },
        "outputId": "65decea2-45bb-4878-b573-d69e2a6cb85b",
        "executionInfo": {
          "status": "ok",
          "timestamp": 1530876817960,
          "user_tz": -330,
          "elapsed": 1230,
          "user": {
            "displayName": "Suyash Gulati",
            "photoUrl": "https://lh3.googleusercontent.com/a/default-user=s128",
            "userId": "105838867624346791498"
          }
        }
      },
      "cell_type": "code",
      "source": [
        "list(tfidf_vocab.items())[:5]"
      ],
      "execution_count": 44,
      "outputs": [
        {
          "output_type": "execute_result",
          "data": {
            "text/plain": [
              "[('conflict', 24301),\n",
              " ('interest', 52278),\n",
              " ('note', 69198),\n",
              " ('user', 110088),\n",
              " ('name', 66374)]"
            ]
          },
          "metadata": {
            "tags": []
          },
          "execution_count": 44
        }
      ]
    },
    {
      "metadata": {
        "id": "ShMRbzJC4WS4",
        "colab_type": "code",
        "colab": {
          "autoexec": {
            "startup": false,
            "wait_interval": 0
          }
        }
      },
      "cell_type": "code",
      "source": [
        "from sklearn.multiclass import OneVsRestClassifier\n",
        "from sklearn.linear_model import LogisticRegression, RidgeClassifier"
      ],
      "execution_count": 0,
      "outputs": []
    },
    {
      "metadata": {
        "id": "sP-Z3wTr4aQB",
        "colab_type": "code",
        "colab": {
          "autoexec": {
            "startup": false,
            "wait_interval": 0
          }
        }
      },
      "cell_type": "code",
      "source": [
        "def train_classifier(X_train, y_train):\n",
        "    model = OneVsRestClassifier(LogisticRegression(C = 4)).fit(X_train, y_train)\n",
        "    return model"
      ],
      "execution_count": 0,
      "outputs": []
    },
    {
      "metadata": {
        "id": "-syRWb5W4cyu",
        "colab_type": "code",
        "colab": {
          "autoexec": {
            "startup": false,
            "wait_interval": 0
          }
        }
      },
      "cell_type": "code",
      "source": [
        "classifier_mybag = train_classifier(X_train_mybag, y_train)\n",
        "classifier_tfidf = train_classifier(X_train_tfid, y_train)"
      ],
      "execution_count": 0,
      "outputs": []
    },
    {
      "metadata": {
        "id": "4jN-Mi0D4hia",
        "colab_type": "code",
        "colab": {
          "autoexec": {
            "startup": false,
            "wait_interval": 0
          }
        }
      },
      "cell_type": "code",
      "source": [
        "y_val_predicted_labels_mybag = classifier_mybag.predict(X_val_mybag)\n",
        "y_val_predicted_scores_mybag = classifier_mybag.decision_function(X_val_mybag)\n",
        "y_test_predicted_scores_mybag = classifier_mybag.decision_function(X_test_mybag)\n",
        "\n",
        "y_val_predicted_labels_tfidf = classifier_tfidf.predict(X_val_tfid)\n",
        "y_val_predicted_scores_tfidf = classifier_tfidf.decision_function(X_val_tfid)\n",
        "y_test_predicted_scores_tfidf = classifier_tfidf.decision_function(X_test_tfid)                                         "
      ],
      "execution_count": 0,
      "outputs": []
    },
    {
      "metadata": {
        "id": "AZ_dLqem5fG2",
        "colab_type": "code",
        "colab": {
          "autoexec": {
            "startup": false,
            "wait_interval": 0
          },
          "base_uri": "https://localhost:8080/",
          "height": 147
        },
        "outputId": "3a39b752-9565-413a-bd46-093ff9684fe7",
        "executionInfo": {
          "status": "ok",
          "timestamp": 1530876942371,
          "user_tz": -330,
          "elapsed": 1749,
          "user": {
            "displayName": "Suyash Gulati",
            "photoUrl": "https://lh3.googleusercontent.com/a/default-user=s128",
            "userId": "105838867624346791498"
          }
        }
      },
      "cell_type": "code",
      "source": [
        "y_val_predicted_labels_mybag"
      ],
      "execution_count": 50,
      "outputs": [
        {
          "output_type": "execute_result",
          "data": {
            "text/plain": [
              "array([[0, 0, 0, 0, 0, 0],\n",
              "       [0, 0, 0, 0, 0, 0],\n",
              "       [0, 0, 0, 0, 0, 0],\n",
              "       ...,\n",
              "       [0, 0, 0, 0, 0, 0],\n",
              "       [0, 0, 0, 0, 0, 0],\n",
              "       [0, 0, 0, 0, 0, 0]])"
            ]
          },
          "metadata": {
            "tags": []
          },
          "execution_count": 50
        }
      ]
    },
    {
      "metadata": {
        "id": "OFH9tTob5io5",
        "colab_type": "code",
        "colab": {
          "autoexec": {
            "startup": false,
            "wait_interval": 0
          }
        }
      },
      "cell_type": "code",
      "source": [
        "from sklearn.metrics import accuracy_score\n",
        "from sklearn.metrics import f1_score\n",
        "from sklearn.metrics import roc_auc_score \n",
        "from sklearn.metrics import average_precision_score\n",
        "from sklearn.metrics import recall_score"
      ],
      "execution_count": 0,
      "outputs": []
    },
    {
      "metadata": {
        "id": "uWXH5c6M6cnG",
        "colab_type": "code",
        "colab": {
          "autoexec": {
            "startup": false,
            "wait_interval": 0
          }
        }
      },
      "cell_type": "code",
      "source": [
        "def print_evaluation_scores(y_val, predicted):\n",
        "    x = accuracy_score(y_val, predicted)\n",
        "    y_macro = f1_score(y_val, predicted,average='macro')\n",
        "    y_micro = f1_score(y_val, predicted,average='micro')\n",
        "    y_weighted = f1_score(y_val, predicted,average='weighted')\n",
        "    z_macro = average_precision_score(y_val, predicted,average='macro')\n",
        "    z_micro = average_precision_score(y_val, predicted,average='micro')\n",
        "    z_weighted = average_precision_score(y_val, predicted,average='weighted')\n",
        "    return x,y_macro,y_micro,y_weighted,z_macro,z_micro,z_weighted"
      ],
      "execution_count": 0,
      "outputs": []
    },
    {
      "metadata": {
        "id": "4RUowUJC6hxg",
        "colab_type": "code",
        "colab": {
          "autoexec": {
            "startup": false,
            "wait_interval": 0
          },
          "base_uri": "https://localhost:8080/",
          "height": 166
        },
        "outputId": "fd271c77-ad78-4fb1-c56b-b28e2f2edb3c",
        "executionInfo": {
          "status": "ok",
          "timestamp": 1530876966815,
          "user_tz": -330,
          "elapsed": 1097,
          "user": {
            "displayName": "Suyash Gulati",
            "photoUrl": "https://lh3.googleusercontent.com/a/default-user=s128",
            "userId": "105838867624346791498"
          }
        }
      },
      "cell_type": "code",
      "source": [
        "print('Bag-of-words')\n",
        "print_evaluation_scores(y_val, y_val_predicted_labels_mybag)\n"
      ],
      "execution_count": 53,
      "outputs": [
        {
          "output_type": "stream",
          "text": [
            "Bag-of-words\n"
          ],
          "name": "stdout"
        },
        {
          "output_type": "execute_result",
          "data": {
            "text/plain": [
              "(0.9089029077540107,\n",
              " 0.34756542586212213,\n",
              " 0.5759748427672956,\n",
              " 0.5579993384224498,\n",
              " 0.230112778626225,\n",
              " 0.3934460129819823,\n",
              " 0.40971923733224686)"
            ]
          },
          "metadata": {
            "tags": []
          },
          "execution_count": 53
        }
      ]
    },
    {
      "metadata": {
        "id": "WBepBwN57KAI",
        "colab_type": "code",
        "colab": {
          "autoexec": {
            "startup": false,
            "wait_interval": 0
          },
          "base_uri": "https://localhost:8080/",
          "height": 166
        },
        "outputId": "55a8f156-ecc5-4392-c789-c5eefa6d542b",
        "executionInfo": {
          "status": "ok",
          "timestamp": 1530876974828,
          "user_tz": -330,
          "elapsed": 1644,
          "user": {
            "displayName": "Suyash Gulati",
            "photoUrl": "https://lh3.googleusercontent.com/a/default-user=s128",
            "userId": "105838867624346791498"
          }
        }
      },
      "cell_type": "code",
      "source": [
        "print('Tfidf')\n",
        "print_evaluation_scores(y_val, y_val_predicted_labels_tfidf)"
      ],
      "execution_count": 54,
      "outputs": [
        {
          "output_type": "stream",
          "text": [
            "Tfidf\n"
          ],
          "name": "stdout"
        },
        {
          "output_type": "execute_result",
          "data": {
            "text/plain": [
              "(0.9191176470588235,\n",
              " 0.5221018085692409,\n",
              " 0.694671201814059,\n",
              " 0.6865407683015239,\n",
              " 0.3554098523792136,\n",
              " 0.5181105405511249,\n",
              " 0.5314085979246491)"
            ]
          },
          "metadata": {
            "tags": []
          },
          "execution_count": 54
        }
      ]
    },
    {
      "metadata": {
        "id": "3G9CINHT7Q2w",
        "colab_type": "code",
        "colab": {
          "autoexec": {
            "startup": false,
            "wait_interval": 0
          },
          "base_uri": "https://localhost:8080/",
          "height": 206
        },
        "outputId": "cd1c7d13-84cd-4610-da7d-b3df12ae3dda",
        "executionInfo": {
          "status": "ok",
          "timestamp": 1530876995169,
          "user_tz": -330,
          "elapsed": 954,
          "user": {
            "displayName": "Suyash Gulati",
            "photoUrl": "https://lh3.googleusercontent.com/a/default-user=s128",
            "userId": "105838867624346791498"
          }
        }
      },
      "cell_type": "code",
      "source": [
        "test.head()"
      ],
      "execution_count": 55,
      "outputs": [
        {
          "output_type": "execute_result",
          "data": {
            "text/html": [
              "<div>\n",
              "<style scoped>\n",
              "    .dataframe tbody tr th:only-of-type {\n",
              "        vertical-align: middle;\n",
              "    }\n",
              "\n",
              "    .dataframe tbody tr th {\n",
              "        vertical-align: top;\n",
              "    }\n",
              "\n",
              "    .dataframe thead th {\n",
              "        text-align: right;\n",
              "    }\n",
              "</style>\n",
              "<table border=\"1\" class=\"dataframe\">\n",
              "  <thead>\n",
              "    <tr style=\"text-align: right;\">\n",
              "      <th></th>\n",
              "      <th>id</th>\n",
              "      <th>comment_text</th>\n",
              "    </tr>\n",
              "  </thead>\n",
              "  <tbody>\n",
              "    <tr>\n",
              "      <th>0</th>\n",
              "      <td>00001cee341fdb12</td>\n",
              "      <td>Yo bitch Ja Rule is more succesful then you'll...</td>\n",
              "    </tr>\n",
              "    <tr>\n",
              "      <th>1</th>\n",
              "      <td>0000247867823ef7</td>\n",
              "      <td>== From RfC == \\n\\n The title is fine as it is...</td>\n",
              "    </tr>\n",
              "    <tr>\n",
              "      <th>2</th>\n",
              "      <td>00013b17ad220c46</td>\n",
              "      <td>\" \\n\\n == Sources == \\n\\n * Zawe Ashton on Lap...</td>\n",
              "    </tr>\n",
              "    <tr>\n",
              "      <th>3</th>\n",
              "      <td>00017563c3f7919a</td>\n",
              "      <td>:If you have a look back at the source, the in...</td>\n",
              "    </tr>\n",
              "    <tr>\n",
              "      <th>4</th>\n",
              "      <td>00017695ad8997eb</td>\n",
              "      <td>I don't anonymously edit articles at all.</td>\n",
              "    </tr>\n",
              "  </tbody>\n",
              "</table>\n",
              "</div>"
            ],
            "text/plain": [
              "                 id                                       comment_text\n",
              "0  00001cee341fdb12  Yo bitch Ja Rule is more succesful then you'll...\n",
              "1  0000247867823ef7  == From RfC == \\n\\n The title is fine as it is...\n",
              "2  00013b17ad220c46  \" \\n\\n == Sources == \\n\\n * Zawe Ashton on Lap...\n",
              "3  00017563c3f7919a  :If you have a look back at the source, the in...\n",
              "4  00017695ad8997eb          I don't anonymously edit articles at all."
            ]
          },
          "metadata": {
            "tags": []
          },
          "execution_count": 55
        }
      ]
    },
    {
      "metadata": {
        "id": "EW2zjVFn_3eO",
        "colab_type": "code",
        "colab": {
          "autoexec": {
            "startup": false,
            "wait_interval": 0
          }
        }
      },
      "cell_type": "code",
      "source": [
        "zz = pd.read_csv(\"drive/app/kaggle/toxic comment/sample_submission.csv\",na_filter=False)"
      ],
      "execution_count": 0,
      "outputs": []
    },
    {
      "metadata": {
        "id": "W4qjl0mVU1HY",
        "colab_type": "code",
        "colab": {
          "autoexec": {
            "startup": false,
            "wait_interval": 0
          },
          "base_uri": "https://localhost:8080/",
          "height": 206
        },
        "outputId": "d8a560a5-9435-4ae9-b6e9-ffa180b106a2",
        "executionInfo": {
          "status": "ok",
          "timestamp": 1530858883387,
          "user_tz": -330,
          "elapsed": 967,
          "user": {
            "displayName": "Suyash Gulati",
            "photoUrl": "https://lh3.googleusercontent.com/a/default-user=s128",
            "userId": "105838867624346791498"
          }
        }
      },
      "cell_type": "code",
      "source": [
        "zz.head()"
      ],
      "execution_count": 75,
      "outputs": [
        {
          "output_type": "execute_result",
          "data": {
            "text/html": [
              "<div>\n",
              "<style scoped>\n",
              "    .dataframe tbody tr th:only-of-type {\n",
              "        vertical-align: middle;\n",
              "    }\n",
              "\n",
              "    .dataframe tbody tr th {\n",
              "        vertical-align: top;\n",
              "    }\n",
              "\n",
              "    .dataframe thead th {\n",
              "        text-align: right;\n",
              "    }\n",
              "</style>\n",
              "<table border=\"1\" class=\"dataframe\">\n",
              "  <thead>\n",
              "    <tr style=\"text-align: right;\">\n",
              "      <th></th>\n",
              "      <th>id</th>\n",
              "      <th>toxic</th>\n",
              "      <th>severe_toxic</th>\n",
              "      <th>obscene</th>\n",
              "      <th>threat</th>\n",
              "      <th>insult</th>\n",
              "      <th>identity_hate</th>\n",
              "    </tr>\n",
              "  </thead>\n",
              "  <tbody>\n",
              "    <tr>\n",
              "      <th>0</th>\n",
              "      <td>00001cee341fdb12</td>\n",
              "      <td>0.5</td>\n",
              "      <td>0.5</td>\n",
              "      <td>0.5</td>\n",
              "      <td>0.5</td>\n",
              "      <td>0.5</td>\n",
              "      <td>0.5</td>\n",
              "    </tr>\n",
              "    <tr>\n",
              "      <th>1</th>\n",
              "      <td>0000247867823ef7</td>\n",
              "      <td>0.5</td>\n",
              "      <td>0.5</td>\n",
              "      <td>0.5</td>\n",
              "      <td>0.5</td>\n",
              "      <td>0.5</td>\n",
              "      <td>0.5</td>\n",
              "    </tr>\n",
              "    <tr>\n",
              "      <th>2</th>\n",
              "      <td>00013b17ad220c46</td>\n",
              "      <td>0.5</td>\n",
              "      <td>0.5</td>\n",
              "      <td>0.5</td>\n",
              "      <td>0.5</td>\n",
              "      <td>0.5</td>\n",
              "      <td>0.5</td>\n",
              "    </tr>\n",
              "    <tr>\n",
              "      <th>3</th>\n",
              "      <td>00017563c3f7919a</td>\n",
              "      <td>0.5</td>\n",
              "      <td>0.5</td>\n",
              "      <td>0.5</td>\n",
              "      <td>0.5</td>\n",
              "      <td>0.5</td>\n",
              "      <td>0.5</td>\n",
              "    </tr>\n",
              "    <tr>\n",
              "      <th>4</th>\n",
              "      <td>00017695ad8997eb</td>\n",
              "      <td>0.5</td>\n",
              "      <td>0.5</td>\n",
              "      <td>0.5</td>\n",
              "      <td>0.5</td>\n",
              "      <td>0.5</td>\n",
              "      <td>0.5</td>\n",
              "    </tr>\n",
              "  </tbody>\n",
              "</table>\n",
              "</div>"
            ],
            "text/plain": [
              "                 id  toxic  severe_toxic  obscene  threat  insult  \\\n",
              "0  00001cee341fdb12    0.5           0.5      0.5     0.5     0.5   \n",
              "1  0000247867823ef7    0.5           0.5      0.5     0.5     0.5   \n",
              "2  00013b17ad220c46    0.5           0.5      0.5     0.5     0.5   \n",
              "3  00017563c3f7919a    0.5           0.5      0.5     0.5     0.5   \n",
              "4  00017695ad8997eb    0.5           0.5      0.5     0.5     0.5   \n",
              "\n",
              "   identity_hate  \n",
              "0            0.5  \n",
              "1            0.5  \n",
              "2            0.5  \n",
              "3            0.5  \n",
              "4            0.5  "
            ]
          },
          "metadata": {
            "tags": []
          },
          "execution_count": 75
        }
      ]
    },
    {
      "metadata": {
        "id": "fjcBVaQLy04r",
        "colab_type": "code",
        "colab": {
          "autoexec": {
            "startup": false,
            "wait_interval": 0
          },
          "base_uri": "https://localhost:8080/",
          "height": 81
        },
        "outputId": "89ca38c7-8ee1-4ec3-cb81-e8f604a3d3d7",
        "executionInfo": {
          "status": "ok",
          "timestamp": 1530858886134,
          "user_tz": -330,
          "elapsed": 1137,
          "user": {
            "displayName": "Suyash Gulati",
            "photoUrl": "https://lh3.googleusercontent.com/a/default-user=s128",
            "userId": "105838867624346791498"
          }
        }
      },
      "cell_type": "code",
      "source": [
        "zz[zz[\"id\"] == '0195127977159338']"
      ],
      "execution_count": 76,
      "outputs": [
        {
          "output_type": "execute_result",
          "data": {
            "text/html": [
              "<div>\n",
              "<style scoped>\n",
              "    .dataframe tbody tr th:only-of-type {\n",
              "        vertical-align: middle;\n",
              "    }\n",
              "\n",
              "    .dataframe tbody tr th {\n",
              "        vertical-align: top;\n",
              "    }\n",
              "\n",
              "    .dataframe thead th {\n",
              "        text-align: right;\n",
              "    }\n",
              "</style>\n",
              "<table border=\"1\" class=\"dataframe\">\n",
              "  <thead>\n",
              "    <tr style=\"text-align: right;\">\n",
              "      <th></th>\n",
              "      <th>id</th>\n",
              "      <th>toxic</th>\n",
              "      <th>severe_toxic</th>\n",
              "      <th>obscene</th>\n",
              "      <th>threat</th>\n",
              "      <th>insult</th>\n",
              "      <th>identity_hate</th>\n",
              "    </tr>\n",
              "  </thead>\n",
              "  <tbody>\n",
              "    <tr>\n",
              "      <th>942</th>\n",
              "      <td>0195127977159338</td>\n",
              "      <td>0.5</td>\n",
              "      <td>0.5</td>\n",
              "      <td>0.5</td>\n",
              "      <td>0.5</td>\n",
              "      <td>0.5</td>\n",
              "      <td>0.5</td>\n",
              "    </tr>\n",
              "  </tbody>\n",
              "</table>\n",
              "</div>"
            ],
            "text/plain": [
              "                   id  toxic  severe_toxic  obscene  threat  insult  \\\n",
              "942  0195127977159338    0.5           0.5      0.5     0.5     0.5   \n",
              "\n",
              "     identity_hate  \n",
              "942            0.5  "
            ]
          },
          "metadata": {
            "tags": []
          },
          "execution_count": 76
        }
      ]
    },
    {
      "metadata": {
        "id": "yqOOlOeeY6NN",
        "colab_type": "code",
        "colab": {
          "autoexec": {
            "startup": false,
            "wait_interval": 0
          },
          "base_uri": "https://localhost:8080/",
          "height": 258
        },
        "outputId": "7ee82688-c835-4ace-b0e9-d8ad75a34a45",
        "executionInfo": {
          "status": "ok",
          "timestamp": 1530877046328,
          "user_tz": -330,
          "elapsed": 1133,
          "user": {
            "displayName": "Suyash Gulati",
            "photoUrl": "https://lh3.googleusercontent.com/a/default-user=s128",
            "userId": "105838867624346791498"
          }
        }
      },
      "cell_type": "code",
      "source": [
        "y_test_predicted_scores_tfidf"
      ],
      "execution_count": 57,
      "outputs": [
        {
          "output_type": "execute_result",
          "data": {
            "text/plain": [
              "array([[ 7.34422033, -1.27895988,  6.27600887, -3.06797711,  2.86230381,\n",
              "        -1.19904771],\n",
              "       [-6.08987304, -6.79677196, -5.86789613, -7.05110349, -5.89571061,\n",
              "        -6.32231342],\n",
              "       [-3.93572274, -6.16673354, -4.88982151, -6.98844969, -4.60591806,\n",
              "        -5.92568918],\n",
              "       ...,\n",
              "       [-5.76134919, -6.82031567, -5.87332416, -7.2694743 , -6.20798158,\n",
              "        -7.86854985],\n",
              "       [-3.69530723, -6.74197943, -4.30225892, -6.37879961, -4.53541004,\n",
              "        -4.46575408],\n",
              "       [ 3.46972944, -6.29378212,  0.51105023, -6.07302507, -0.86702696,\n",
              "        -5.05674535]])"
            ]
          },
          "metadata": {
            "tags": []
          },
          "execution_count": 57
        }
      ]
    },
    {
      "metadata": {
        "id": "YcLCJ2t6c8ww",
        "colab_type": "code",
        "colab": {
          "autoexec": {
            "startup": false,
            "wait_interval": 0
          }
        }
      },
      "cell_type": "code",
      "source": [
        "zz.iloc[:,1:] = y_test_predicted_scores_tfidf\n",
        "zz.to_csv('drive/app/kaggle/toxic comment/linear_scores_tfidf.csv',index=False)"
      ],
      "execution_count": 0,
      "outputs": []
    },
    {
      "metadata": {
        "id": "bkMaqiRxejL0",
        "colab_type": "code",
        "colab": {
          "autoexec": {
            "startup": false,
            "wait_interval": 0
          }
        }
      },
      "cell_type": "code",
      "source": [
        ""
      ],
      "execution_count": 0,
      "outputs": []
    }
  ]
}